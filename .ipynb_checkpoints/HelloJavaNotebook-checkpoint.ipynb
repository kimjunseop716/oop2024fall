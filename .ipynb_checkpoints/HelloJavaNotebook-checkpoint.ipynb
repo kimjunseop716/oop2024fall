{
 "cells": [
  {
   "cell_type": "markdown",
   "id": "121b4361-f817-43d6-bd03-a8b5ff78d60b",
   "metadata": {},
   "source": [
    "김준섭, 20210539, https://github.com/kimjunseop716"
   ]
  },
  {
   "cell_type": "code",
   "execution_count": null,
   "id": "316bbae7-7f7e-44cc-a507-73b96783acc5",
   "metadata": {},
   "outputs": [],
   "source": [
    "%%bash\n",
    "echo $GITHUB_USER"
   ]
  },
  {
   "cell_type": "code",
   "execution_count": null,
   "id": "b4863691-893e-469d-b5a5-5ed75e8ac64e",
   "metadata": {},
   "outputs": [],
   "source": [
    "%%bash\n",
    "java --version"
   ]
  },
  {
   "cell_type": "code",
   "execution_count": null,
   "id": "4bfd4049-e467-48a4-9247-d57904760475",
   "metadata": {},
   "outputs": [],
   "source": [
    "Runtime.version()"
   ]
  }
 ],
 "metadata": {
  "kernelspec": {
   "display_name": "Java (rjk 2.1.0)",
   "language": "java",
   "name": "rapaio-jupyter-kernel"
  },
  "language_info": {
   "codemirror_mode": "java",
   "file_extension": ".jshell",
   "mimetype": "text/x-java-source",
   "name": "java",
   "nbconvert_exporter": "script",
   "pygments_lexer": "java",
   "version": "22.0.2+9"
  }
 },
 "nbformat": 4,
 "nbformat_minor": 5
}
